{
 "cells": [
  {
   "cell_type": "code",
   "execution_count": 3,
   "id": "29bffc2e",
   "metadata": {},
   "outputs": [],
   "source": [
    "import numpy as np"
   ]
  },
  {
   "cell_type": "markdown",
   "id": "d6fe4cb3",
   "metadata": {},
   "source": [
    "# Latihan 2D Array"
   ]
  },
  {
   "cell_type": "code",
   "execution_count": 4,
   "id": "45b9c037",
   "metadata": {},
   "outputs": [
    {
     "name": "stdout",
     "output_type": "stream",
     "text": [
      "[[1 2 3]\n",
      " [4 5 6]\n",
      " [7 8 9]] \n",
      "\n",
      "banyaknya entry =  9\n",
      "dimensi array =  2\n",
      "ukuran array =  (3, 3) \n",
      "\n"
     ]
    }
   ],
   "source": [
    "A = np.array([[1, 2, 3], [4, 5, 6], [7, 8, 9]])\n",
    "print(A, \"\\n\")\n",
    "#Lengkapi kodingan berikut\n",
    "print('banyaknya entry = ', A.size)\n",
    "print('dimensi array = ', A.ndim)\n",
    "print('ukuran array = ', A.shape, \"\\n\")"
   ]
  },
  {
   "cell_type": "markdown",
   "id": "a4b55dfc",
   "metadata": {},
   "source": [
    "# Latihan Slicing"
   ]
  },
  {
   "cell_type": "code",
   "execution_count": 5,
   "id": "44bce4ad",
   "metadata": {},
   "outputs": [
    {
     "name": "stdout",
     "output_type": "stream",
     "text": [
      "baris ke-3 = \n",
      " [7 8 9]\n",
      "entry ke-1 & 2 baris ke-3 =  [7 8]\n",
      "entry ke-2 & 3 kolom ke-3 = \n",
      " [[6]\n",
      " [9]]\n"
     ]
    }
   ],
   "source": [
    "#Lengkapi kodingan berikut\n",
    "print('baris ke-3 = \\n', A[2])\n",
    "print('entry ke-1 & 2 baris ke-3 = ', A[2][0:2])\n",
    "print('entry ke-2 & 3 kolom ke-3 = \\n', A[1:3,2:]) #Baris 1-2 kolom >= 2"
   ]
  },
  {
   "cell_type": "markdown",
   "id": "5297d584",
   "metadata": {},
   "source": [
    "# Operasi Matriks"
   ]
  },
  {
   "cell_type": "markdown",
   "id": "c7dc23a6",
   "metadata": {},
   "source": [
    "## Hitunglah:\n",
    "    *   2*A\n",
    "    *   2+A\n",
    "    *   A+B\n",
    "    *   A-B\n",
    "    *   determinan A\n",
    "    *   invers dari B, simpan jadi matriks D\n",
    "    *   transpose D\n",
    "    *   nilai eigen dan vektor eigen dari A dan B"
   ]
  },
  {
   "cell_type": "code",
   "execution_count": 15,
   "id": "217b9553",
   "metadata": {},
   "outputs": [
    {
     "name": "stdout",
     "output_type": "stream",
     "text": [
      "[[1 2]\n",
      " [7 8]]\n",
      "[[3 5]\n",
      " [1 6]]\n"
     ]
    }
   ],
   "source": [
    "A = np.array([[1, 2], [7,8]])\n",
    "B = np.array([[3, 5], [1,6]])\n",
    "\n",
    "print(A)\n",
    "print(B)"
   ]
  },
  {
   "cell_type": "code",
   "execution_count": 16,
   "id": "619632a9",
   "metadata": {},
   "outputs": [
    {
     "data": {
      "text/plain": [
       "array([[ 2,  4],\n",
       "       [14, 16]])"
      ]
     },
     "execution_count": 16,
     "metadata": {},
     "output_type": "execute_result"
    }
   ],
   "source": [
    "2*A"
   ]
  },
  {
   "cell_type": "code",
   "execution_count": 17,
   "id": "3324d525",
   "metadata": {},
   "outputs": [
    {
     "data": {
      "text/plain": [
       "array([[ 3,  4],\n",
       "       [ 9, 10]])"
      ]
     },
     "execution_count": 17,
     "metadata": {},
     "output_type": "execute_result"
    }
   ],
   "source": [
    "2+A"
   ]
  },
  {
   "cell_type": "code",
   "execution_count": 18,
   "id": "b26cb4be",
   "metadata": {},
   "outputs": [
    {
     "data": {
      "text/plain": [
       "array([[ 4,  7],\n",
       "       [ 8, 14]])"
      ]
     },
     "execution_count": 18,
     "metadata": {},
     "output_type": "execute_result"
    }
   ],
   "source": [
    "A+B"
   ]
  },
  {
   "cell_type": "code",
   "execution_count": 19,
   "id": "8ca3365c",
   "metadata": {},
   "outputs": [
    {
     "data": {
      "text/plain": [
       "array([[-2, -3],\n",
       "       [ 6,  2]])"
      ]
     },
     "execution_count": 19,
     "metadata": {},
     "output_type": "execute_result"
    }
   ],
   "source": [
    "A-B"
   ]
  },
  {
   "cell_type": "code",
   "execution_count": 20,
   "id": "64aaf2df",
   "metadata": {},
   "outputs": [
    {
     "name": "stdout",
     "output_type": "stream",
     "text": [
      "-6.0\n"
     ]
    }
   ],
   "source": [
    "print(np.linalg.det(A))"
   ]
  },
  {
   "cell_type": "code",
   "execution_count": 22,
   "id": "847c0ed1",
   "metadata": {},
   "outputs": [
    {
     "name": "stdout",
     "output_type": "stream",
     "text": [
      "[[ 0.46153846 -0.38461538]\n",
      " [-0.07692308  0.23076923]]\n"
     ]
    }
   ],
   "source": [
    "D = (np.linalg.inv(B))\n",
    "print(D)"
   ]
  },
  {
   "cell_type": "code",
   "execution_count": 23,
   "id": "f62463cd",
   "metadata": {},
   "outputs": [
    {
     "name": "stdout",
     "output_type": "stream",
     "text": [
      "[[ 0.46153846 -0.07692308]\n",
      " [-0.38461538  0.23076923]]\n"
     ]
    }
   ],
   "source": [
    "print(np.transpose(D))"
   ]
  },
  {
   "cell_type": "code",
   "execution_count": 29,
   "id": "8040463e",
   "metadata": {},
   "outputs": [
    {
     "name": "stdout",
     "output_type": "stream",
     "text": [
      "Nilai Eigen A =  [-0.62347538  9.62347538]\n",
      "Vector Eigen A = \n",
      " [[-0.77640358 -0.22592838]\n",
      " [ 0.63023605 -0.97414391]]\n",
      "\n",
      "Nilai Eigen B =  [1.8074176 7.1925824]\n",
      "Vector Eigen B = \n",
      " [[-0.97271381 -0.76626443]\n",
      " [ 0.23200828 -0.64252535]]\n"
     ]
    }
   ],
   "source": [
    "print(\"Nilai Eigen A = \", np.linalg.eig(A)[0])\n",
    "print(\"Vector Eigen A = \\n\", np.linalg.eig(A)[1])\n",
    "print(\"\")\n",
    "print(\"Nilai Eigen B = \", np.linalg.eig(B)[0])\n",
    "print(\"Vector Eigen B = \\n\", np.linalg.eig(B)[1])"
   ]
  },
  {
   "cell_type": "markdown",
   "id": "bc2f9fcf",
   "metadata": {},
   "source": [
    "### *Apa perbedaan dari B*D (perkalian antar entry di B dan D) dan BD (perkalian matriks B dan D)? *"
   ]
  },
  {
   "cell_type": "code",
   "execution_count": 31,
   "id": "43d854c8",
   "metadata": {},
   "outputs": [
    {
     "name": "stdout",
     "output_type": "stream",
     "text": [
      "[[ 1.38461538 -1.92307692]\n",
      " [-0.07692308  1.38461538]]\n"
     ]
    }
   ],
   "source": [
    "print(B * D)"
   ]
  },
  {
   "cell_type": "code",
   "execution_count": 32,
   "id": "6614e6d9",
   "metadata": {},
   "outputs": [
    {
     "name": "stdout",
     "output_type": "stream",
     "text": [
      "[[ 1.00000000e+00  0.00000000e+00]\n",
      " [-5.55111512e-17  1.00000000e+00]]\n"
     ]
    }
   ],
   "source": [
    "print(np.matmul(B,D))"
   ]
  }
 ],
 "metadata": {
  "kernelspec": {
   "display_name": "Python 3 (ipykernel)",
   "language": "python",
   "name": "python3"
  },
  "language_info": {
   "codemirror_mode": {
    "name": "ipython",
    "version": 3
   },
   "file_extension": ".py",
   "mimetype": "text/x-python",
   "name": "python",
   "nbconvert_exporter": "python",
   "pygments_lexer": "ipython3",
   "version": "3.9.7"
  }
 },
 "nbformat": 4,
 "nbformat_minor": 5
}
