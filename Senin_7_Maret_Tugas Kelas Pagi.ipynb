{
 "cells": [
  {
   "cell_type": "markdown",
   "id": "333a0c03",
   "metadata": {},
   "source": [
    "## **Activity OOP**\n",
    "\n",
    "Buatlah 3 OOP beserta turunannya dari objek sekitar, buat ulang seperti yang diatas (encapsulation, abstaction, inheritance, polymorphism)"
   ]
  },
  {
   "cell_type": "markdown",
   "id": "b32b3fcf",
   "metadata": {},
   "source": [
    "#### Encapsulation"
   ]
  },
  {
   "cell_type": "code",
   "execution_count": 5,
   "id": "877595cd",
   "metadata": {},
   "outputs": [
    {
     "name": "stdout",
     "output_type": "stream",
     "text": [
      "anggur jeruk mangga\n"
     ]
    }
   ],
   "source": [
    "class buah(object):\n",
    "    def cek(self):\n",
    "        print('anggur', 'jeruk', 'mangga')\n",
    "\n",
    "tampil = buah()\n",
    "tampil.cek()"
   ]
  },
  {
   "cell_type": "code",
   "execution_count": 6,
   "id": "976d1459",
   "metadata": {},
   "outputs": [
    {
     "name": "stdout",
     "output_type": "stream",
     "text": [
      "Udin sedang ingin beli buah\n",
      "Udin sedang jual buah\n",
      "Buahnya adalah jeruk\n"
     ]
    }
   ],
   "source": [
    "nama = 'Udin'\n",
    "kegiatan = 'sedang'\n",
    "keinginan = 'ingin'\n",
    "\n",
    "def cetak(nama, kegiatan):\n",
    "    print(f\"{nama} {kegiatan} ingin beli buah\")\n",
    "    \n",
    "cetak(nama, kegiatan)\n",
    "\n",
    "class siudin:\n",
    "    def __init__(self, input_nama, input_kegiatan, input_keinginan):\n",
    "        self.nama = input_nama\n",
    "        self.kegiatan = input_kegiatan\n",
    "        self.keinginan = input_keinginan\n",
    "        \n",
    "    def cetak2(self):\n",
    "        print(f'{self.nama} {self.kegiatan} {self.keinginan}')\n",
    "    \n",
    "    def tampilkan(self):\n",
    "        print(f'Buahnya adalah jeruk')\n",
    "    \n",
    "tampil2 = siudin('Udin', 'sedang', 'jual buah')\n",
    "\n",
    "tampil2.cetak2()\n",
    "tampil2.tampilkan()\n"
   ]
  },
  {
   "cell_type": "markdown",
   "id": "1aea6f6f",
   "metadata": {},
   "source": [
    "#### Abstraction"
   ]
  },
  {
   "cell_type": "code",
   "execution_count": 2,
   "id": "8ec2a893",
   "metadata": {},
   "outputs": [],
   "source": [
    "from abc import abstractmethod, ABC"
   ]
  },
  {
   "cell_type": "code",
   "execution_count": 15,
   "id": "071852a5",
   "metadata": {},
   "outputs": [
    {
     "name": "stdout",
     "output_type": "stream",
     "text": [
      "Kamu sedang melakukan gacha dan...\n",
      "Selamat anda mendapatkan :  SSR\n",
      "Kamu melakukan gacha lagi dan...\n",
      "Selamat anda mendapatkan :  R\n"
     ]
    }
   ],
   "source": [
    "class abstrak(ABC):\n",
    "    def cetak(self, i):\n",
    "        print('Selamat anda mendapatkan : ', i)\n",
    "        \n",
    "    @abstractmethod\n",
    "    def gacha(self):\n",
    "        pass\n",
    "\n",
    "class pertama(abstrak):\n",
    "    def gacha(self):\n",
    "        print('Kamu sedang melakukan gacha dan...')\n",
    "\n",
    "class kedua(abstrak):\n",
    "    def gacha():\n",
    "        print('Kamu melakukan gacha lagi dan...')\n",
    "\n",
    "#class pertama\n",
    "example = pertama()\n",
    "example.gacha()\n",
    "example.cetak('SSR')\n",
    "\n",
    "#class kedua\n",
    "example2 = kedua\n",
    "example2.gacha()\n",
    "example2.cetak(0, 'R')\n"
   ]
  },
  {
   "cell_type": "markdown",
   "id": "98c568c3",
   "metadata": {},
   "source": [
    "#### inheritance"
   ]
  },
  {
   "cell_type": "code",
   "execution_count": 14,
   "id": "d5d98b1f",
   "metadata": {},
   "outputs": [
    {
     "name": "stdout",
     "output_type": "stream",
     "text": [
      "Nama bintang paling terang ialah :\n",
      "Sirius, ia adalah bintang paling terang pertama, dengan jarak 8.6 tahun cahaya, \n",
      "dan ia berada dikonstelasi Canis Mayor\n",
      "\n",
      "Nama bintang paling terang kedua adalah : \n",
      "Canopus, ia adalah bintang paling terang kedua, dengan jarak 310 tahun cahaya,\n",
      "dan ia berada dikonstelasi Carina, Canopus termasuk dalam spektrum A911,\n",
      "dengan tipe A9\n"
     ]
    }
   ],
   "source": [
    "class bintang(object):\n",
    "    def __init__(self, nama_bintang, jarak, konstelasi):\n",
    "        self.nama_bintang = nama_bintang\n",
    "        self.jarak = jarak\n",
    "        self.konstelasi = konstelasi\n",
    "        \n",
    "    def awal(self):\n",
    "        print('Nama bintang paling terang ialah :')\n",
    "        \n",
    "    def tampil(self):\n",
    "        print(f'{self.nama_bintang}, ia adalah bintang paling terang pertama, dengan jarak {self.jarak} tahun cahaya, \\n'\n",
    "              f'dan ia berada dikonstelasi {self.konstelasi}')\n",
    "\n",
    "pertama = bintang('Sirius', 8.6, 'Canis Mayor')\n",
    "pertama.awal()\n",
    "pertama.tampil()\n",
    "print()\n",
    "\n",
    "class bintang2(bintang):\n",
    "    def __init__(self, nama_bintang, jarak, konstelasi, spektrum, tipe):\n",
    "        super().__init__(nama_bintang, jarak, konstelasi)\n",
    "        self.spektrum = spektrum\n",
    "        self.tipe = tipe\n",
    "    \n",
    "    def awal2(self):\n",
    "        print('Nama bintang paling terang kedua adalah : ')\n",
    "        \n",
    "    def tampil2(self):\n",
    "        print(f'{self.nama_bintang}, ia adalah bintang paling terang kedua, dengan jarak {self.jarak} tahun cahaya,\\n'\n",
    "              f'dan ia berada dikonstelasi {self.konstelasi}, {self.nama_bintang} termasuk dalam spektrum {self.spektrum},\\n'\n",
    "              f'dengan tipe {self.tipe}')\n",
    "\n",
    "kedua = bintang2('Canopus', 310, 'Carina', 'A911', 'A9')\n",
    "kedua.awal2()\n",
    "kedua.tampil2()"
   ]
  },
  {
   "cell_type": "markdown",
   "id": "87da14a2",
   "metadata": {},
   "source": [
    "#### Polymorphism"
   ]
  },
  {
   "cell_type": "code",
   "execution_count": 63,
   "id": "9b5af9df",
   "metadata": {},
   "outputs": [
    {
     "name": "stdout",
     "output_type": "stream",
     "text": [
      "Nama Hewan :\n",
      "Semut, ia berwarna : merah, dan ia tinggal di sarangnya\n",
      "Nama ilmiah dari hewan ini adalah Formicidae\n",
      "\n",
      "Nama Hewan :\n",
      "Kucing, ia berwarna : hitam, dan ia tinggal dijalan ataupun dirumah\n",
      "Nama ilmiah dari hewan ini adalah Felis catus\n",
      "Hewan ini adalah karnivora\n"
     ]
    }
   ],
   "source": [
    "class Hewan(object):\n",
    "  def __init__(self, nama, warna, tempat_tinggal):\n",
    "    self.nama = nama\n",
    "    self.warna = warna\n",
    "    self.temt = tempat_tinggal\n",
    "\n",
    "  def gatau(self):\n",
    "    print(\"Nama Hewan :\")\n",
    "\n",
    "  def info(self):\n",
    "    print(f\"{self.nama}, ia berwarna : {self.warna}, dan ia tinggal {self.temt}\")\n",
    "  \n",
    "  def info2(self):\n",
    "     print(f'Nama ilmiah dari hewan ini adalah {self.ni}')\n",
    "\n",
    "          \n",
    "class Hewan2(Hewan):\n",
    "    def __init__(self,  nama, warna, tempat_tinggal, nama_ilmiah):\n",
    "        super().__init__(nama, warna, tempat_tinggal)\n",
    "        self.ni = nama_ilmiah\n",
    "    \n",
    "    \n",
    "  \n",
    "class Hewan3(Hewan):\n",
    "  def __init__(self, nama, warna, tempat_tinggal, nama_ilmiah, tipe):\n",
    "    super().__init__(nama, warna, tempat_tinggal)\n",
    "    self.tipe = tipe\n",
    "    self.ni = nama_ilmiah\n",
    "    \n",
    "  def info3(self):\n",
    "    print(f\"Hewan ini adalah {self.tipe}\")  \n",
    "\n",
    "h2 = Hewan2('Semut', 'merah', 'di sarangnya', 'Formicidae')\n",
    "          \n",
    "h2.gatau()\n",
    "h2.info()\n",
    "h2.info2()\n",
    "print()\n",
    "h3 = Hewan3(\"Kucing\", 'hitam', \"dijalan ataupun dirumah\", 'Felis catus', 'karnivora')\n",
    "\n",
    "h3.gatau()\n",
    "h3.info()\n",
    "h3.info2()\n",
    "h3.info3()"
   ]
  },
  {
   "cell_type": "code",
   "execution_count": null,
   "id": "29dc5b74",
   "metadata": {},
   "outputs": [],
   "source": []
  }
 ],
 "metadata": {
  "kernelspec": {
   "display_name": "Python 3 (ipykernel)",
   "language": "python",
   "name": "python3"
  },
  "language_info": {
   "codemirror_mode": {
    "name": "ipython",
    "version": 3
   },
   "file_extension": ".py",
   "mimetype": "text/x-python",
   "name": "python",
   "nbconvert_exporter": "python",
   "pygments_lexer": "ipython3",
   "version": "3.9.7"
  }
 },
 "nbformat": 4,
 "nbformat_minor": 5
}
