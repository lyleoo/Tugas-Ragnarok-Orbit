{
 "cells": [
  {
   "cell_type": "code",
   "execution_count": 1,
   "id": "d7904a02",
   "metadata": {},
   "outputs": [],
   "source": [
    "import costum_modul as cm "
   ]
  },
  {
   "cell_type": "markdown",
   "id": "6945e6de",
   "metadata": {},
   "source": [
    "## Encapsulation"
   ]
  },
  {
   "cell_type": "code",
   "execution_count": 2,
   "id": "18174f0b",
   "metadata": {},
   "outputs": [
    {
     "name": "stdout",
     "output_type": "stream",
     "text": [
      "Udin sedang makan buah\n",
      "Buahnya adalah jeruk\n"
     ]
    }
   ],
   "source": [
    "tampil = cm.encapsulation('Udin', 'sedang', 'makan buah')\n",
    "\n",
    "tampil.cetak()\n",
    "tampil.tampilkan()"
   ]
  },
  {
   "cell_type": "markdown",
   "id": "ad451d21",
   "metadata": {},
   "source": [
    "# Abstraction"
   ]
  },
  {
   "cell_type": "code",
   "execution_count": 4,
   "id": "6ab68c0b",
   "metadata": {},
   "outputs": [
    {
     "name": "stdout",
     "output_type": "stream",
     "text": [
      "Kamu sedang melakukan gacha dan...\n",
      "Selamat anda mendapatkan :  SSR\n",
      "\n",
      "Kamu melakukan gacha lagi dan...\n",
      "Selamat anda mendapatkan :  R\n"
     ]
    }
   ],
   "source": [
    "#class pertama\n",
    "tampil2 = cm.pertama()\n",
    "tampil2.gacha()\n",
    "tampil2.cetak2('SSR')\n",
    "print()\n",
    "#class kedua\n",
    "tampil3 = cm.kedua\n",
    "tampil3.gacha()\n",
    "tampil3.cetak2(0, 'R')"
   ]
  },
  {
   "cell_type": "markdown",
   "id": "9baf38c4",
   "metadata": {},
   "source": [
    "# Inheritance"
   ]
  },
  {
   "cell_type": "code",
   "execution_count": 6,
   "id": "1db303f1",
   "metadata": {},
   "outputs": [
    {
     "name": "stdout",
     "output_type": "stream",
     "text": [
      "Nama bintang paling terang ialah :\n",
      "Sirius, ia adalah bintang paling terang pertama, dengan jarak 8.6 tahun cahaya, \n",
      "dan ia berada dikonstelasi Canis Mayor\n",
      "\n",
      "Nama bintang paling terang kedua adalah : \n",
      "Canopus, ia adalah bintang paling terang kedua, dengan jarak 310 tahun cahaya,\n",
      "dan ia berada dikonstelasi Carina, Canopus termasuk dalam spektrum A911,\n",
      "dengan tipe A9\n"
     ]
    }
   ],
   "source": [
    "tampil4 = cm.bintang('Sirius', 8.6, 'Canis Mayor')\n",
    "tampil4.awal()\n",
    "tampil4.akhir()\n",
    "print()\n",
    "tampil5 = cm.bintang2('Canopus', 310, 'Carina', 'A911', 'A9')\n",
    "tampil5.awal2()\n",
    "tampil5.akhir2()"
   ]
  },
  {
   "cell_type": "markdown",
   "id": "1d538300",
   "metadata": {},
   "source": [
    "# Polymorphism"
   ]
  },
  {
   "cell_type": "code",
   "execution_count": 7,
   "id": "40346504",
   "metadata": {},
   "outputs": [
    {
     "name": "stdout",
     "output_type": "stream",
     "text": [
      "Nama Hewan :\n",
      "Semut, ia berwarna : merah, dan ia tinggal di sarangnya\n",
      "Nama ilmiah dari hewan ini adalah Formicidae\n",
      "\n",
      "Nama Hewan :\n",
      "Kucing, ia berwarna : hitam, dan ia tinggal dijalan ataupun dirumah\n",
      "Nama ilmiah dari hewan ini adalah Felis catus\n",
      "Hewan ini adalah karnivora\n"
     ]
    }
   ],
   "source": [
    "tampil6 = cm.Hewan2('Semut', 'merah', 'di sarangnya', 'Formicidae')\n",
    "          \n",
    "tampil6.gatau()\n",
    "tampil6.info()\n",
    "tampil6.info2()\n",
    "print()\n",
    "tampil7 = cm.Hewan3(\"Kucing\", 'hitam', \"dijalan ataupun dirumah\", 'Felis catus', 'karnivora')\n",
    "\n",
    "tampil7.gatau()\n",
    "tampil7.info()\n",
    "tampil7.info2()\n",
    "tampil7.info3()"
   ]
  }
 ],
 "metadata": {
  "kernelspec": {
   "display_name": "Python 3 (ipykernel)",
   "language": "python",
   "name": "python3"
  },
  "language_info": {
   "codemirror_mode": {
    "name": "ipython",
    "version": 3
   },
   "file_extension": ".py",
   "mimetype": "text/x-python",
   "name": "python",
   "nbconvert_exporter": "python",
   "pygments_lexer": "ipython3",
   "version": "3.9.7"
  }
 },
 "nbformat": 4,
 "nbformat_minor": 5
}
