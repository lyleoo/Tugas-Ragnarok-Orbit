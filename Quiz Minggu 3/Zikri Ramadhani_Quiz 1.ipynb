{
 "cells": [
  {
   "cell_type": "markdown",
   "id": "7cf4ba2a",
   "metadata": {},
   "source": [
    "# Python OOP"
   ]
  },
  {
   "cell_type": "markdown",
   "id": "7cd69312",
   "metadata": {},
   "source": [
    "# 1"
   ]
  },
  {
   "cell_type": "markdown",
   "id": "c1ce3c5b",
   "metadata": {},
   "source": [
    "OOP adalah object oriented programming"
   ]
  },
  {
   "cell_type": "markdown",
   "id": "facf7eef",
   "metadata": {},
   "source": [
    "Abstraction"
   ]
  },
  {
   "cell_type": "code",
   "execution_count": 2,
   "id": "cfd7097f",
   "metadata": {},
   "outputs": [],
   "source": [
    "from abc import abstractmethod, ABC"
   ]
  },
  {
   "cell_type": "code",
   "execution_count": 3,
   "id": "73ac15f8",
   "metadata": {},
   "outputs": [
    {
     "name": "stdout",
     "output_type": "stream",
     "text": [
      "Haloo\n",
      "Selamat pagi\n"
     ]
    }
   ],
   "source": [
    "class abstrak(ABC):\n",
    "    def cetak(self):\n",
    "        print('Haloo')\n",
    "        \n",
    "    @abstractmethod\n",
    "    def cetak2(self):\n",
    "        pass\n",
    "\n",
    "class kedua(abstrak):\n",
    "    def cetak2(self):\n",
    "        print('Selamat pagi')\n",
    "\n",
    "tampil = kedua()\n",
    "tampil.cetak()\n",
    "tampil.cetak2()"
   ]
  },
  {
   "cell_type": "markdown",
   "id": "465e6ef8",
   "metadata": {},
   "source": [
    "Encapsulation"
   ]
  },
  {
   "cell_type": "markdown",
   "id": "0996ea64",
   "metadata": {},
   "source": [
    "nama = 'samsul'\n",
    "umur = '17'\n",
    "cllas = '2 SMA'\n",
    "\n",
    "def cetak(nama, umur, kelas):\n",
    "    print(f\"{nama} berumur {umur} tahun, ia kelas {cllas}\")        \n",
    "\n",
    "class kelas:\n",
    "    def __init__(self, name, age, clas):\n",
    "        self.nama = name\n",
    "        self.umur = age\n",
    "        self.kelas = clas\n",
    "        \n",
    "    def cetak2(self):\n",
    "        print(f'nama : {self.nama}, umur : {self.umur}, kelas : {self.kelas}')\n",
    "\n",
    "tampil = kelas('saipul', '7', '2 sd')\n",
    "cetak(nama, umur, kelas)\n",
    "tampil.cetak2()"
   ]
  },
  {
   "cell_type": "markdown",
   "id": "850774f5",
   "metadata": {},
   "source": [
    "# 2"
   ]
  },
  {
   "cell_type": "markdown",
   "id": "2b54aba0",
   "metadata": {},
   "source": [
    "modul deff untuk membuat suatu method\n",
    "\n",
    "modul math untuk memungkinkan kita menghitung rumus matematika pada python"
   ]
  },
  {
   "cell_type": "markdown",
   "id": "00846032",
   "metadata": {},
   "source": [
    "# 3"
   ]
  },
  {
   "cell_type": "code",
   "execution_count": 7,
   "id": "69e3617a",
   "metadata": {},
   "outputs": [],
   "source": [
    "import math"
   ]
  },
  {
   "cell_type": "code",
   "execution_count": 16,
   "id": "cc49efd3",
   "metadata": {},
   "outputs": [
    {
     "name": "stdout",
     "output_type": "stream",
     "text": [
      "31.811761799581316\n"
     ]
    }
   ],
   "source": [
    "print(math.sqrt(175) + 4*math.sqrt(7) + (1+3) + math.log(81, 3))"
   ]
  },
  {
   "cell_type": "markdown",
   "id": "1816adcb",
   "metadata": {},
   "source": [
    "# 4"
   ]
  },
  {
   "cell_type": "markdown",
   "id": "ad8b3b78",
   "metadata": {},
   "source": [
    "blom, bingung coach"
   ]
  },
  {
   "cell_type": "markdown",
   "id": "3d2e6bb1",
   "metadata": {},
   "source": [
    "-"
   ]
  },
  {
   "cell_type": "markdown",
   "id": "a433b743",
   "metadata": {},
   "source": [
    "# Artificial Intelligence"
   ]
  },
  {
   "cell_type": "markdown",
   "id": "deab014c",
   "metadata": {},
   "source": [
    "# 1"
   ]
  },
  {
   "cell_type": "markdown",
   "id": "66a81b3a",
   "metadata": {},
   "source": [
    "data terstruktur adalah data yang sudah tersusun dan rapih jadi mudah untuk digunakan dan dapat diurutkan dalam baris dan kolom.\n",
    "\n",
    "data tidak terstuktur adalah data yang dibuat oleh manusia dan dalam berbagai macam jenis file(belum memiliki bentuk), dan tidak bisa dilihat dalam baris dan kolom.\n",
    "\n",
    "contoh 3 sumber data adalah : data vaksin warga indonesia, data hasil kuisiner, data laporan kantor"
   ]
  },
  {
   "cell_type": "markdown",
   "id": "b539199e",
   "metadata": {},
   "source": [
    "# 2"
   ]
  },
  {
   "cell_type": "markdown",
   "id": "8d89a553",
   "metadata": {},
   "source": [
    "AI adalah teknologi kecerdasan buatan yang dibuat manusia\n",
    "\n",
    "Machine learning adalah pembelajaran yang gunanya untuk memberikan pengetahuan dan data kepada sebuah AI\n",
    "\n",
    "Deep learning adalah metode implementasi dari machine learning yang bertujuan memberi pemahaman/ ilmu pada ai dengan menirukan cara kerja otak manusia"
   ]
  },
  {
   "cell_type": "markdown",
   "id": "5f1121e8",
   "metadata": {},
   "source": [
    "# 3"
   ]
  },
  {
   "cell_type": "markdown",
   "id": "12270efc",
   "metadata": {},
   "source": [
    "traditional software tidak memerlukan data yang ada ataupun data lama dan saat membuatnya kita perlu mengetahui dahulu background knowledge kemudian melakukan pemrograman software berdasarkan fungsional dari yang diketahui. jadi traditional software tidak bisa melakukan prediksi"
   ]
  },
  {
   "cell_type": "markdown",
   "id": "3601ec72",
   "metadata": {},
   "source": [
    "Machine learning adalah pendekatan development software yang menggunakan data dari masa lalu untuk memprediksi pola kemudian dari pola tersebut dapat kita tafsirkan kecenderungan hasil / kesimpulan / data yang akan diinput user itu seperti apa, dan machine learning dapat melakukan prediksi data"
   ]
  },
  {
   "cell_type": "markdown",
   "id": "0ff0b73c",
   "metadata": {},
   "source": [
    "# 4"
   ]
  },
  {
   "cell_type": "markdown",
   "id": "9066f9f7",
   "metadata": {},
   "source": [
    "- Aplikasi untuk memprediksi hasil panen\n",
    "- Aplikasi untuk mencegah hama (seperti membuat sistem penyiraman pestisida otomatis, mendeteksi calon hama pada tanaman)\n",
    "- membuat smarth machine / aplikasi mesin pintar seperti memberikan mesin kelebihan seperti mesin traktor yang dapat otomatis"
   ]
  },
  {
   "cell_type": "markdown",
   "id": "3e8c1649",
   "metadata": {},
   "source": [
    "-"
   ]
  },
  {
   "cell_type": "markdown",
   "id": "704ea51a",
   "metadata": {},
   "source": [
    "# Maths for AI"
   ]
  },
  {
   "cell_type": "markdown",
   "id": "ecb5f820",
   "metadata": {},
   "source": [
    "# 1"
   ]
  },
  {
   "cell_type": "markdown",
   "id": "e9d954ae",
   "metadata": {},
   "source": [
    "Karena matematika memberikan pemahaman dan pelajaran tentang logika matematika, perhitungan seperti kalkulus dan aljabar, serta probabilitas"
   ]
  },
  {
   "cell_type": "markdown",
   "id": "f78baac6",
   "metadata": {},
   "source": [
    "# 2"
   ]
  },
  {
   "cell_type": "markdown",
   "id": "808bb5d7",
   "metadata": {},
   "source": [
    "Vektor adalah besaran yang merepresentasikan dengan nilai dan arah, sedangkan skalar adalah besaran yang merepresentasikan nilai saja"
   ]
  },
  {
   "cell_type": "markdown",
   "id": "bb72579d",
   "metadata": {},
   "source": [
    "# 3"
   ]
  },
  {
   "cell_type": "markdown",
   "id": "42427d99",
   "metadata": {},
   "source": [
    "Jarak Euclidean adalah jarak garis lurus antara dua titik sedangkan jarak Manhattan adalah jarak antara  panjang ruas garis kedua titik "
   ]
  },
  {
   "cell_type": "markdown",
   "id": "f024a24b",
   "metadata": {},
   "source": [
    "# 4"
   ]
  },
  {
   "cell_type": "markdown",
   "id": "8d6d64c8",
   "metadata": {},
   "source": [
    "yaitu untuk menghitung aljabar linier, yang digunakan untuk menyelesaikan persamaan linier simultan. Ini dilakukan dengan penggunaan matriks dan operasi matriks. Data untuk AI umumnya disimpan dalam bentuk vektor dan matriks, dan nilai yang terkandung dianggap sebagai koefisien persamaan linier.\n",
    "\n",
    "Operasi matriks digunakan untuk menangani data dalam jumlah besar, sehingga lebih mudah untuk menerapkan operasi skalar seperti perkalian dan pembagian skalar, dan juga operasi antar vektor melalui berbagai operasi matriks dengan kecepatan dan kemudahan yang tinggi.\n",
    "\n",
    "Pengetahuan tentang aljabar linier penting untuk memutuskan bagaimana data akan disimpan dalam matriks. Misalnya, sebuah gambar dapat disimpan dalam tiga matriks, masing-masing elemen berisi intensitas nilai merah, hijau, dan biru dari setiap piksel dalam matriks tersebut. Sekarang melakukan operasi pada piksel ini menjadi sangat mudah karena penggunaan matriks untuk menerapkan aljabar linier."
   ]
  },
  {
   "cell_type": "markdown",
   "id": "4dca0f71",
   "metadata": {},
   "source": [
    "-"
   ]
  },
  {
   "cell_type": "markdown",
   "id": "1c0a8e07",
   "metadata": {},
   "source": [
    "# Machine Learning"
   ]
  },
  {
   "cell_type": "markdown",
   "id": "54c74311",
   "metadata": {},
   "source": [
    "# 1"
   ]
  },
  {
   "cell_type": "markdown",
   "id": "22834ed5",
   "metadata": {},
   "source": [
    "supervised learning adalah teknik atau cara kita memberikan pengetahuan ke AI melalui data-data yang kita berikan, atau ilmu/cara ataupun teknik agar AI tersebut dapat mempelajari dan memahami hal itu, sedangkan Unsupervised learning merupakan kemampuan AI untuk belajar secara mandiri melalui hal yang tidak kita ketahui atau tidak bisa kita berikan ke AI tersebut.\n",
    "\n",
    "contoh supervised learning adalah klasifikasi dan regresi\n",
    "contoh unsupervised learning adalah k-means dan clustering"
   ]
  },
  {
   "cell_type": "markdown",
   "id": "4223cf9f",
   "metadata": {},
   "source": [
    "# 2"
   ]
  },
  {
   "cell_type": "markdown",
   "id": "c51f16af",
   "metadata": {},
   "source": [
    "Supervised Learning, Unsupervised Learning, dan Deep Learning"
   ]
  },
  {
   "cell_type": "markdown",
   "id": "73fd1123",
   "metadata": {},
   "source": [
    "supervised learning adalah teknik atau cara kita memberikan pengetahuan ke AI melalui data-data yang kita berikan, atau ilmu/cara ataupun teknik agar AI tersebut dapat mempelajari dan memahami hal itu."
   ]
  },
  {
   "cell_type": "markdown",
   "id": "9fe92936",
   "metadata": {},
   "source": [
    "Unsupervised learning merupakan kemampuan AI untuk belajar secara mandiri melalui hal yang tidak kita ketahui atau tidak bisa kita berikan ke AI tersebut."
   ]
  },
  {
   "cell_type": "markdown",
   "id": "4e807534",
   "metadata": {},
   "source": [
    "Deep learning adalah metode implementasi dari machine learning yang bertujuan memberi pemahaman/ ilmu pada ai dengan menirukan cara kerja otak manusia"
   ]
  },
  {
   "cell_type": "markdown",
   "id": "0f556a36",
   "metadata": {},
   "source": [
    "# 3"
   ]
  },
  {
   "cell_type": "markdown",
   "id": "d29b3e15",
   "metadata": {},
   "source": [
    "Regresi adalah suatu teknik analisis untuk mengidentifikasi relasi atau hubungan diantara dua variabel atau lebih sedangkan Klasifikasi adalah sebuah teknik untuk mengklasifikasikan atau mengkategorikan beberapa item yang belum berlabel ke dalam sebuah set kelas diskrit."
   ]
  },
  {
   "cell_type": "markdown",
   "id": "d030428a",
   "metadata": {},
   "source": [
    "# 4"
   ]
  },
  {
   "cell_type": "markdown",
   "id": "ef0be4bb",
   "metadata": {},
   "source": [
    "Algoritma Artificial Neural Network (ANN)  merupakan model yang meniru cara kerja jaringan neural biologis. Dengan melakukan proses belajar jaringan saraf tiruan dapat mengatur dirinya untuk menghasilkan suatu respon yang konsisten terhadap rangkaian masukkan. Jaringan saraf tiruan dirancang dan dilatih untuk memiliki kemampuan seperti manusia\n",
    "\n",
    "Fungsi dari Neural Network diantaranya adalah: Pengklasifikasian pola. Memetakan pola yang didapat dari input ke dalam pola baru pada output."
   ]
  }
 ],
 "metadata": {
  "kernelspec": {
   "display_name": "Python 3 (ipykernel)",
   "language": "python",
   "name": "python3"
  },
  "language_info": {
   "codemirror_mode": {
    "name": "ipython",
    "version": 3
   },
   "file_extension": ".py",
   "mimetype": "text/x-python",
   "name": "python",
   "nbconvert_exporter": "python",
   "pygments_lexer": "ipython3",
   "version": "3.9.7"
  }
 },
 "nbformat": 4,
 "nbformat_minor": 5
}
